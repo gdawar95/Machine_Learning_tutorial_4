{
  "nbformat": 4,
  "nbformat_minor": 0,
  "metadata": {
    "colab": {
      "name": "lab_4_2.ipynb",
      "provenance": [],
      "collapsed_sections": []
    },
    "kernelspec": {
      "display_name": "Python 3",
      "language": "python",
      "name": "python3"
    },
    "language_info": {
      "codemirror_mode": {
        "name": "ipython",
        "version": 3
      },
      "file_extension": ".py",
      "mimetype": "text/x-python",
      "name": "python",
      "nbconvert_exporter": "python",
      "pygments_lexer": "ipython3",
      "version": "3.7.4"
    }
  },
  "cells": [
    {
      "cell_type": "markdown",
      "metadata": {
        "colab_type": "text",
        "id": "OTpnyUEJrAjE"
      },
      "source": [
        "#### Linear Regression - Project 4"
      ]
    },
    {
      "cell_type": "markdown",
      "metadata": {
        "colab_type": "text",
        "id": "oLFrnQo9wA4H"
      },
      "source": [
        "## How to use this Notebook"
      ]
    },
    {
      "cell_type": "markdown",
      "metadata": {
        "colab_type": "text",
        "id": "Ryuq8mw8wA4J"
      },
      "source": [
        "1. Run the cells to get a bird's eye view of whats going on.\n",
        "2. Interact with the code to better understand how it works - add cells, plot values, change parameters, etc.\n",
        "3. (Optional) Replicate Linear Regression code on a blank notebook, without viewing this code. [This is called retrieval practice.](https://www.learningscientists.org/blog/2016/6/23-1)\n",
        "4. Complete exercises."
      ]
    },
    {
      "cell_type": "markdown",
      "metadata": {
        "colab_type": "text",
        "id": "Jn-UWaxnwA4K"
      },
      "source": [
        "## Linear Regression - Introduction"
      ]
    },
    {
      "cell_type": "markdown",
      "metadata": {
        "colab_type": "text",
        "id": "kS-L6yG_wA4L"
      },
      "source": [
        "### Linear Regression"
      ]
    },
    {
      "cell_type": "markdown",
      "metadata": {
        "id": "2mFMzlbcbcs0",
        "colab_type": "text"
      },
      "source": [
        "In statistics, linear regression is a linear approach to modelling the relationship between a dependent variable and one or more independent variables. Let X be the independent variable and Y be the dependent variable. We will define a linear relationship between these two variables as follows:"
      ]
    },
    {
      "cell_type": "markdown",
      "metadata": {
        "id": "R3JNdY_Cbcs0",
        "colab_type": "text"
      },
      "source": [
        "$y = mX + c$"
      ]
    },
    {
      "cell_type": "markdown",
      "metadata": {
        "id": "6YAZTV1Mbcs1",
        "colab_type": "text"
      },
      "source": [
        "This is the equation for a line that you studied in high school. m is the slope of the line and c is the y intercept. Today we will use this equation to train our model with a given dataset and predict the value of Y for any given value of X. Our challenge today is to determine the value of m and c, such that the line corresponding to those values is the best fitting line or gives the minimum error."
      ]
    },
    {
      "cell_type": "markdown",
      "metadata": {
        "id": "9ENvOgIIbcs1",
        "colab_type": "text"
      },
      "source": [
        "Are we always fitting a line into the data? What if we have more than 1 feature (independant variable)?"
      ]
    },
    {
      "cell_type": "markdown",
      "metadata": {
        "id": "_lhIIg3Pbcs2",
        "colab_type": "text"
      },
      "source": [
        "The vectorized form of above equation is written as $y = Xw$, where y and w are vectors while X is a matrix. \n",
        "\n",
        "Where is the c term? It is included within the X matrix."
      ]
    },
    {
      "cell_type": "markdown",
      "metadata": {
        "id": "qyYxxkfAbcs2",
        "colab_type": "text"
      },
      "source": [
        "**Hypothesis of Linear Regression**"
      ]
    },
    {
      "cell_type": "markdown",
      "metadata": {
        "id": "KUz5wFvUbcs3",
        "colab_type": "text"
      },
      "source": [
        "The linear regression model can be represented by the following equation:"
      ]
    },
    {
      "cell_type": "markdown",
      "metadata": {
        "id": "M6E-PKb_bcs3",
        "colab_type": "text"
      },
      "source": [
        "<img src=\"https://miro.medium.com/max/313/1*A32yDrkQKIU0Z-Nf7JD9Pg.png\">"
      ]
    },
    {
      "cell_type": "markdown",
      "metadata": {
        "id": "q_aOnL22bcs4",
        "colab_type": "text"
      },
      "source": [
        "- Y is the predicted value ($h_\\theta(x)$)\n",
        "- θ₀ is the bias term.\n",
        "- θ₁,…,θₙ are the model parameters\n",
        "- x₁, x₂,…,xₙ are the feature values."
      ]
    },
    {
      "cell_type": "markdown",
      "metadata": {
        "colab_type": "text",
        "id": "bD4i39QVwA4O"
      },
      "source": [
        "### LR - Procedure"
      ]
    },
    {
      "cell_type": "markdown",
      "metadata": {
        "id": "y6AiJnqnbcs5",
        "colab_type": "text"
      },
      "source": [
        "Our Loss function for Linear regression would be sum of squares, which makes the cost function to be:"
      ]
    },
    {
      "cell_type": "markdown",
      "metadata": {
        "id": "RUIa2Og3bcs5",
        "colab_type": "text"
      },
      "source": [
        "<img src=\"https://miro.medium.com/max/300/1*_y5QA1yF4w6LDDRxfTt6GA.jpeg\">"
      ]
    },
    {
      "cell_type": "markdown",
      "metadata": {
        "id": "53bIKpy5bcs6",
        "colab_type": "text"
      },
      "source": [
        "[link text](https://)Here yᵢ is the actual value and ȳᵢ is the predicted value. Lets substitute the value of ȳᵢ from $y = mX + c$:"
      ]
    },
    {
      "cell_type": "markdown",
      "metadata": {
        "id": "Vgfn6x2Ubcs6",
        "colab_type": "text"
      },
      "source": [
        "<img src=\"https://miro.medium.com/max/400/1*3cpC7oHy4IbH3o3Jc-ygVw.jpeg\">"
      ]
    },
    {
      "cell_type": "markdown",
      "metadata": {
        "id": "w5GC9wklbcs7",
        "colab_type": "text"
      },
      "source": [
        "Partial Derivative of the above equation with respect to m is shown as $D_m$:"
      ]
    },
    {
      "cell_type": "markdown",
      "metadata": {
        "id": "MXzmtoFzbcs7",
        "colab_type": "text"
      },
      "source": [
        "<img src=\"https://miro.medium.com/max/400/1*FvYfCBrl2gX9K-KxSO1eIw.jpeg\">"
      ]
    },
    {
      "cell_type": "markdown",
      "metadata": {
        "id": "T4bzLgyXbcs7",
        "colab_type": "text"
      },
      "source": [
        "While the Partial Derivative with respect to c is shown as $D_c$:"
      ]
    },
    {
      "cell_type": "markdown",
      "metadata": {
        "id": "8YT6zO2-bcs8",
        "colab_type": "text"
      },
      "source": [
        "<img src=\"https://miro.medium.com/max/300/1*rj09w2TcBxnHPtQ0oq4ehA.jpeg\">"
      ]
    },
    {
      "cell_type": "markdown",
      "metadata": {
        "colab_type": "text",
        "id": "FNAgpf18wA4S"
      },
      "source": [
        "#### Analytical Approach for Linear Regression\n",
        "\n",
        "Can you derive the Analytical Solution for Linear Regression?"
      ]
    },
    {
      "cell_type": "markdown",
      "metadata": {
        "id": "9-vd5YWLbcs-",
        "colab_type": "text"
      },
      "source": [
        "We arrive at the analytical solution when we turn the partial derivatives with respect to the parameters to zero. Why?\n",
        "\n",
        "This is because at the point where cost function is at the minimum with respect to the parameters (m and c), the derivative of cost function with respect to the parameters would be zero."
      ]
    },
    {
      "cell_type": "markdown",
      "metadata": {
        "id": "kJBZTGZHbcs-",
        "colab_type": "text"
      },
      "source": [
        "$D_m=0$ and $D_c=0$"
      ]
    },
    {
      "cell_type": "markdown",
      "metadata": {
        "id": "o_qnAm8tbcs_",
        "colab_type": "text"
      },
      "source": [
        "The solution for the general case comes out to be:"
      ]
    },
    {
      "cell_type": "markdown",
      "metadata": {
        "id": "91CsuqsUbcs_",
        "colab_type": "text"
      },
      "source": [
        "<img src=\"https://sebastianraschka.com/images/faq/closed-form-vs-gd/closed-form.png\">"
      ]
    },
    {
      "cell_type": "markdown",
      "metadata": {
        "id": "nuHJAOmvbctA",
        "colab_type": "text"
      },
      "source": [
        "With $L_2$ Regularization. Cost:"
      ]
    },
    {
      "cell_type": "markdown",
      "metadata": {
        "id": "eCDCGqdbbctB",
        "colab_type": "text"
      },
      "source": [
        "$J(\\theta) = \\frac{1}{2m}[\\sum_{i=1}^m(h_\\theta (x^{(i)}) - y^{(i)})^2 + \\lambda\\sum_{j=1}^n\\theta^2_j]$"
      ]
    },
    {
      "cell_type": "markdown",
      "metadata": {
        "id": "w484FOiDbctC",
        "colab_type": "text"
      },
      "source": [
        "$w = (X^TX + \\lambda I)^{-1}X^Ty$"
      ]
    },
    {
      "cell_type": "markdown",
      "metadata": {
        "colab_type": "text",
        "heading_collapsed": true,
        "id": "iQyQ3hA6bctC"
      },
      "source": [
        "#### Gradient Descent Solution"
      ]
    },
    {
      "cell_type": "markdown",
      "metadata": {
        "hidden": true,
        "id": "4nPHi1eSbctC",
        "colab_type": "text"
      },
      "source": [
        "Gradient descent uses the equations for gradient derived above to find the direction in which we tinker the values of our parameters m and c. "
      ]
    },
    {
      "cell_type": "markdown",
      "metadata": {
        "hidden": true,
        "id": "y8RY7oFgbctD",
        "colab_type": "text"
      },
      "source": [
        "<img src=\"https://miro.medium.com/max/300/1*JDcHqFK8jLcgQu1cj2XuVQ.jpeg\">"
      ]
    },
    {
      "cell_type": "markdown",
      "metadata": {
        "hidden": true,
        "id": "TmX3-0DYbctD",
        "colab_type": "text"
      },
      "source": [
        "Here the term $L$ is defined as the learning rate."
      ]
    },
    {
      "cell_type": "markdown",
      "metadata": {
        "hidden": true,
        "id": "HW9l1_RBbctE",
        "colab_type": "text"
      },
      "source": [
        "<img src=\"https://miro.medium.com/max/864/1*CjTBNFUEI_IokEOXJ00zKw.gif\">"
      ]
    },
    {
      "cell_type": "markdown",
      "metadata": {
        "colab_type": "text",
        "id": "K0JkLAQWbctE"
      },
      "source": [
        "#### Any other solutions methods?"
      ]
    },
    {
      "cell_type": "markdown",
      "metadata": {
        "id": "9A_OEn8VbctE",
        "colab_type": "text"
      },
      "source": [
        "Some other solution methods are QR Decomposition, Singular-Value Decomposition.\n",
        "\n",
        "- Do these methods give exact solutions?\n",
        "- Do these methods scale well with large datasets?"
      ]
    },
    {
      "cell_type": "markdown",
      "metadata": {
        "colab_type": "text",
        "id": "sxvjbQZibctF"
      },
      "source": [
        "## Let's Start"
      ]
    },
    {
      "cell_type": "markdown",
      "metadata": {
        "id": "LEzWkTisbctF",
        "colab_type": "text"
      },
      "source": [
        "Single Feature, 5 data points."
      ]
    },
    {
      "cell_type": "markdown",
      "metadata": {
        "id": "VPNKfSh1bctG",
        "colab_type": "text"
      },
      "source": [
        "### Analytical Approach in Code\n",
        "\n",
        "Let's get our hands dirty."
      ]
    },
    {
      "cell_type": "code",
      "metadata": {
        "id": "_pUP_nOYbctG",
        "colab_type": "code",
        "colab": {}
      },
      "source": [
        "import numpy as np\n",
        "import pandas as pd\n",
        "import matplotlib.pyplot as plt\n",
        "import seaborn as sns\n",
        "from sklearn.linear_model import LinearRegression\n",
        "from sklearn.linear_model import Ridge\n",
        "from sklearn.preprocessing import PolynomialFeatures\n",
        "from sklearn.metrics import mean_squared_error"
      ],
      "execution_count": null,
      "outputs": []
    },
    {
      "cell_type": "code",
      "metadata": {
        "id": "g2s-ZTXtbctI",
        "colab_type": "code",
        "colab": {
          "base_uri": "https://localhost:8080/",
          "height": 34
        },
        "outputId": "b1632f15-1f3b-4325-ae56-41908a799cef"
      },
      "source": [
        "n = 5 # number of points\n",
        "m = 2 # slope of line\n",
        "c = 4 # y intercept of line\n",
        "r = 2 # range of data on x-axis\n",
        "\n",
        "np.random.seed(2)\n",
        "x = r * np.random.rand(n)\n",
        "x.sort()\n",
        "yPerf = m*x + c # perfect world: no noise\n",
        "y = m*x + c + np.random.randn(n) # imperfect world: we get noisy data\n",
        "\n",
        "x"
      ],
      "execution_count": null,
      "outputs": [
        {
          "output_type": "execute_result",
          "data": {
            "text/plain": [
              "array([0.05185246, 0.8407356 , 0.87064479, 0.8719898 , 1.09932496])"
            ]
          },
          "metadata": {
            "tags": []
          },
          "execution_count": 556
        }
      ]
    },
    {
      "cell_type": "markdown",
      "metadata": {
        "id": "RlW5IUn5bctJ",
        "colab_type": "text"
      },
      "source": [
        "Spoiler Alert: We are in an Imperfect World."
      ]
    },
    {
      "cell_type": "code",
      "metadata": {
        "id": "lNe4w9CdbctJ",
        "colab_type": "code",
        "colab": {}
      },
      "source": [
        "def rmse(yPred, y):\n",
        "    return np.sqrt(mean_squared_error(yPred, y))"
      ],
      "execution_count": null,
      "outputs": []
    },
    {
      "cell_type": "code",
      "metadata": {
        "id": "YmkB-_lpbctL",
        "colab_type": "code",
        "colab": {
          "base_uri": "https://localhost:8080/",
          "height": 540
        },
        "outputId": "76cafb9d-35c5-40de-f7d7-f2b1a48cf6c7"
      },
      "source": [
        "plt.plot(x, y, 'o', label='Data')\n",
        "plt.plot(x, yPerf, 'o-', label='Underlying Distribution')\n",
        "\n",
        "plt.legend()\n",
        "plt.show()"
      ],
      "execution_count": null,
      "outputs": [
        {
          "output_type": "display_data",
          "data": {
            "image/png": "[encoded data removed]",
            "text/plain": [
              "<Figure size 864x648 with 1 Axes>"
            ]
          },
          "metadata": {
            "tags": []
          }
        }
      ]
    },
    {
      "cell_type": "code",
      "metadata": {
        "id": "xL7-QF9TbctN",
        "colab_type": "code",
        "colab": {
          "base_uri": "https://localhost:8080/",
          "height": 105
        },
        "outputId": "0649cb2b-11d1-453c-9821-5b731d591f48"
      },
      "source": [
        "x = np.vstack((np.ones(np.shape(x)), x)).T #np.shape(x) will give the value of (5, ) the old shape of x that we created above\n",
        "y = y.reshape(-1, 1)\n",
        "\n",
        "x"
      ],
      "execution_count": null,
      "outputs": [
        {
          "output_type": "execute_result",
          "data": {
            "text/plain": [
              "array([[1.        , 0.05185246],\n",
              "       [1.        , 0.8407356 ],\n",
              "       [1.        , 0.87064479],\n",
              "       [1.        , 0.8719898 ],\n",
              "       [1.        , 1.09932496]])"
            ]
          },
          "metadata": {
            "tags": []
          },
          "execution_count": 559
        }
      ]
    },
    {
      "cell_type": "code",
      "metadata": {
        "id": "70gnrF0XbctO",
        "colab_type": "code",
        "colab": {
          "base_uri": "https://localhost:8080/",
          "height": 140
        },
        "outputId": "b100ecbf-3032-4730-b64e-5cb6a1c6e900"
      },
      "source": [
        "# analytical solution\n",
        "w = np.dot(np.linalg.inv(np.dot(x.T, x)), np.dot(x.T, y))\n",
        "print(w)\n",
        "# prediction\n",
        "yPred = np.dot(x, w)\n",
        "\n",
        "print(yPred)"
      ],
      "execution_count": null,
      "outputs": [
        {
          "output_type": "stream",
          "text": [
            "[[2.67741212]\n",
            " [3.35314632]]\n",
            "[[2.85128102]\n",
            " [5.49652162]\n",
            " [5.59681148]\n",
            " [5.60132153]\n",
            " [6.36360955]]\n"
          ],
          "name": "stdout"
        }
      ]
    },
    {
      "cell_type": "code",
      "metadata": {
        "id": "msWFfyD-bctQ",
        "colab_type": "code",
        "colab": {
          "base_uri": "https://localhost:8080/",
          "height": 34
        },
        "outputId": "6c943edc-b5f8-4534-c304-d20369bbeb6d"
      },
      "source": [
        "w[0], w[1]"
      ],
      "execution_count": null,
      "outputs": [
        {
          "output_type": "execute_result",
          "data": {
            "text/plain": [
              "(array([2.67741212]), array([3.35314632]))"
            ]
          },
          "metadata": {
            "tags": []
          },
          "execution_count": 561
        }
      ]
    },
    {
      "cell_type": "markdown",
      "metadata": {
        "id": "vlvll92zbctS",
        "colab_type": "text"
      },
      "source": [
        "- How similar are these to the values we had set initially?\n",
        "- Will they be same as those set initially if there was no noise?"
      ]
    },
    {
      "cell_type": "code",
      "metadata": {
        "id": "NyxfDFgfbctS",
        "colab_type": "code",
        "colab": {
          "base_uri": "https://localhost:8080/",
          "height": 540
        },
        "outputId": "d3592b18-2d1f-48f1-dd9c-30fa1643b597"
      },
      "source": [
        "plt.plot(x[:, 1], y, 'o', label='Data')\n",
        "plt.plot(x[:, 1], yPerf, 'o-', label='Underlying Distribution')\n",
        "plt.plot(x[:, 1], yPred, 'o-', label='Predicted')\n",
        "\n",
        "plt.legend()\n",
        "plt.show()"
      ],
      "execution_count": null,
      "outputs": [
        {
          "output_type": "display_data",
          "data": {
            "image/png": "[encoded data removed]",
            "text/plain": [
              "<Figure size 864x648 with 1 Axes>"
            ]
          },
          "metadata": {
            "tags": []
          }
        }
      ]
    },
    {
      "cell_type": "code",
      "metadata": {
        "id": "2l5yQVtFbctU",
        "colab_type": "code",
        "colab": {
          "base_uri": "https://localhost:8080/",
          "height": 34
        },
        "outputId": "de11fbf0-32ff-47d3-8fa3-67f02efb7c0d"
      },
      "source": [
        "print('RMSE: ', rmse(yPred, y))"
      ],
      "execution_count": null,
      "outputs": [
        {
          "output_type": "stream",
          "text": [
            "RMSE:  0.8321853483360432\n"
          ],
          "name": "stdout"
        }
      ]
    },
    {
      "cell_type": "markdown",
      "metadata": {
        "id": "o3ZG5e0YbctW",
        "colab_type": "text"
      },
      "source": [
        "### Complex Dependant Variable\n",
        "\n",
        "It's complicated."
      ]
    },
    {
      "cell_type": "code",
      "metadata": {
        "id": "T9eFKueSbctX",
        "colab_type": "code",
        "colab": {
          "base_uri": "https://localhost:8080/",
          "height": 34
        },
        "outputId": "f7ebe492-2274-4f98-e044-417f2d2e4639"
      },
      "source": [
        "n = 20 # number of points\n",
        "m = 3  # slope of line\n",
        "c = 10 # y intercept of line\n",
        "r = 2  # range of data on x-axis\n",
        "\n",
        "np.random.seed(10)\n",
        "X = xD = r * np.random.randn(n) # points also stored in xD (xData). will be useful later for plotting original data of x with predicted value (since X will change later in code)\n",
        "X.sort()\n",
        "yPerf = X - 2 * (X ** 2) + 0.5 * (X ** 3)\n",
        "np.random.seed(10)\n",
        "y = X - 2 * (X ** 2) + 0.5 * (X ** 3) + np.random.normal(0, 5, n) # imperfect world: we get noisy data (0=mean, 5=std deviation, n=number of samples)\n",
        "\n",
        "X.shape"
      ],
      "execution_count": null,
      "outputs": [
        {
          "output_type": "execute_result",
          "data": {
            "text/plain": [
              "(20,)"
            ]
          },
          "metadata": {
            "tags": []
          },
          "execution_count": 564
        }
      ]
    },
    {
      "cell_type": "code",
      "metadata": {
        "id": "OFpKR94YbctY",
        "colab_type": "code",
        "colab": {
          "base_uri": "https://localhost:8080/",
          "height": 540
        },
        "outputId": "d8697f2e-34d8-41e2-f1a4-46e04918282e"
      },
      "source": [
        "plt.plot(X, y, 'o', label='Data')\n",
        "plt.plot(X, yPerf, 'o-', label='Underlying Distribution')\n",
        "\n",
        "plt.legend()\n",
        "plt.show()"
      ],
      "execution_count": null,
      "outputs": [
        {
          "output_type": "display_data",
          "data": {
            "image/png": "[encoded data removed]",
            "text/plain": [
              "<Figure size 864x648 with 1 Axes>"
            ]
          },
          "metadata": {
            "tags": []
          }
        }
      ]
    },
    {
      "cell_type": "code",
      "metadata": {
        "id": "ka-pV7fGbctZ",
        "colab_type": "code",
        "colab": {}
      },
      "source": [
        "X = np.vstack((np.ones(np.shape(X)), X)).T\n",
        "y = y.reshape(-1, 1)"
      ],
      "execution_count": null,
      "outputs": []
    },
    {
      "cell_type": "code",
      "metadata": {
        "id": "GZy6EK4Mbctb",
        "colab_type": "code",
        "colab": {
          "base_uri": "https://localhost:8080/",
          "height": 52
        },
        "outputId": "5a90eef8-7210-4789-db33-7162384eab39"
      },
      "source": [
        "# analytical solution\n",
        "w = np.dot(np.linalg.inv(np.dot(X.T, X)), np.dot(X.T, y))\n",
        "\n",
        "# prediction\n",
        "yPredLinear = yPred = np.dot(X, w)\n",
        "\n",
        "w"
      ],
      "execution_count": null,
      "outputs": [
        {
          "output_type": "execute_result",
          "data": {
            "text/plain": [
              "array([[-5.45917353],\n",
              "       [ 3.82202654]])"
            ]
          },
          "metadata": {
            "tags": []
          },
          "execution_count": 567
        }
      ]
    },
    {
      "cell_type": "code",
      "metadata": {
        "id": "NS_2S74qbctc",
        "colab_type": "code",
        "colab": {
          "base_uri": "https://localhost:8080/",
          "height": 540
        },
        "outputId": "88caaf54-f304-43d8-9e1d-2f098dd96bb8"
      },
      "source": [
        "plt.plot(xD, y, 'o', label='Data')\n",
        "plt.plot(xD, yPerf, 'o-', label='Underlying Distribution')\n",
        "plt.plot(xD, yPred, 'o-', label='Predicted')\n",
        "\n",
        "plt.legend()\n",
        "plt.show()"
      ],
      "execution_count": null,
      "outputs": [
        {
          "output_type": "display_data",
          "data": {
            "image/png": "[encoded data removed]",
            "text/plain": [
              "<Figure size 864x648 with 1 Axes>"
            ]
          },
          "metadata": {
            "tags": []
          }
        }
      ]
    },
    {
      "cell_type": "code",
      "metadata": {
        "id": "NkKlZkKkbctd",
        "colab_type": "code",
        "colab": {
          "base_uri": "https://localhost:8080/",
          "height": 34
        },
        "outputId": "5ebcc201-3537-47c2-ffe5-ef2d1e714ae1"
      },
      "source": [
        "print('RMSE: ', rmse(yPred, y))"
      ],
      "execution_count": null,
      "outputs": [
        {
          "output_type": "stream",
          "text": [
            "RMSE:  6.839531223681816\n"
          ],
          "name": "stdout"
        }
      ]
    },
    {
      "cell_type": "markdown",
      "metadata": {
        "id": "S6zNdggSbctf",
        "colab_type": "text"
      },
      "source": [
        "#### What to do next?\n",
        "\n",
        "Can we add more features."
      ]
    },
    {
      "cell_type": "code",
      "metadata": {
        "id": "zIDKcjBKbctf",
        "colab_type": "code",
        "colab": {
          "base_uri": "https://localhost:8080/",
          "height": 34
        },
        "outputId": "8c2ad262-9467-414e-cb55-6e75766ea8ba"
      },
      "source": [
        "X = np.vstack((X.T, xD**2, xD**3)).T\n",
        "X.shape"
      ],
      "execution_count": null,
      "outputs": [
        {
          "output_type": "execute_result",
          "data": {
            "text/plain": [
              "(20, 4)"
            ]
          },
          "metadata": {
            "tags": []
          },
          "execution_count": 570
        }
      ]
    },
    {
      "cell_type": "code",
      "metadata": {
        "id": "XlhuePv2bcth",
        "colab_type": "code",
        "colab": {}
      },
      "source": [
        "# analytical solution\n",
        "w = np.dot(np.linalg.inv(np.dot(X.T, X)), np.dot(X.T, y))\n",
        "\n",
        "# prediction\n",
        "yPred4Feature = yPred = np.dot(X, w)"
      ],
      "execution_count": null,
      "outputs": []
    },
    {
      "cell_type": "code",
      "metadata": {
        "id": "jk90FPCXbcti",
        "colab_type": "code",
        "colab": {
          "base_uri": "https://localhost:8080/",
          "height": 87
        },
        "outputId": "6739d359-098b-4cb8-9d1c-5bade20f9c0d"
      },
      "source": [
        "w"
      ],
      "execution_count": null,
      "outputs": [
        {
          "output_type": "execute_result",
          "data": {
            "text/plain": [
              "array([[ 0.04177438],\n",
              "       [ 2.58652514],\n",
              "       [-1.87142105],\n",
              "       [ 0.19655185]])"
            ]
          },
          "metadata": {
            "tags": []
          },
          "execution_count": 572
        }
      ]
    },
    {
      "cell_type": "code",
      "metadata": {
        "id": "As3fF2SMbctj",
        "colab_type": "code",
        "colab": {
          "base_uri": "https://localhost:8080/",
          "height": 540
        },
        "outputId": "d29c07db-dd9a-4398-9049-307b58b78d01"
      },
      "source": [
        "plt.plot(xD, y, 'o', label='Data')\n",
        "plt.plot(xD, yPerf, 'o-', label='Underlying Distribution')\n",
        "plt.plot(xD, yPred, 'o-', label='Predicted')\n",
        "\n",
        "plt.legend()\n",
        "plt.show()"
      ],
      "execution_count": null,
      "outputs": [
        {
          "output_type": "display_data",
          "data": {
            "image/png": "[encoded data removed]",
            "text/plain": [
              "<Figure size 864x648 with 1 Axes>"
            ]
          },
          "metadata": {
            "tags": []
          }
        }
      ]
    },
    {
      "cell_type": "code",
      "metadata": {
        "id": "q4w21j3Wbctl",
        "colab_type": "code",
        "colab": {
          "base_uri": "https://localhost:8080/",
          "height": 34
        },
        "outputId": "11a9a1dc-ca49-4c19-8940-e8703f935d7d"
      },
      "source": [
        "print('RMSE: ', rmse(yPred, y))"
      ],
      "execution_count": null,
      "outputs": [
        {
          "output_type": "stream",
          "text": [
            "RMSE:  3.929493007090521\n"
          ],
          "name": "stdout"
        }
      ]
    },
    {
      "cell_type": "markdown",
      "metadata": {
        "id": "6UVOla-Obctm",
        "colab_type": "text"
      },
      "source": [
        "But how do we know when to stop, since we would not be knowing when to stop adding features in x."
      ]
    },
    {
      "cell_type": "code",
      "metadata": {
        "id": "a1dphgtbbctm",
        "colab_type": "code",
        "colab": {
          "base_uri": "https://localhost:8080/",
          "height": 1000
        },
        "outputId": "fcb7b663-a571-437c-dcc8-3903db628ecc"
      },
      "source": [
        "X = np.vstack((X.T, xD**4, xD**5, xD**6, xD**7)).T\n",
        "X"
      ],
      "execution_count": null,
      "outputs": [
        {
          "output_type": "execute_result",
          "data": {
            "text/plain": [
              "array([[ 1.00000000e+00, -3.09080058e+00,  9.55304825e+00,\n",
              "        -2.95265671e+01,  9.12607309e+01, -2.82068720e+02,\n",
              "         8.71818166e+02, -2.69461610e+03],\n",
              "       [ 1.00000000e+00, -2.27320442e+00,  5.16745835e+00,\n",
              "        -1.17466892e+01,  2.67026258e+01, -6.07005271e+01,\n",
              "         1.37984707e+02, -3.13667446e+02],\n",
              "       [ 1.00000000e+00, -2.15960977e+00,  4.66391437e+00,\n",
              "        -1.00722350e+01,  2.17520972e+01, -4.69760417e+01,\n",
              "         1.01449919e+02, -2.19092236e+02],\n",
              "       [ 1.00000000e+00, -1.93013134e+00,  3.72540699e+00,\n",
              "        -7.19052480e+00,  1.38786573e+01, -2.67876314e+01,\n",
              "         5.17036468e+01, -9.97948292e+01],\n",
              "       [ 1.00000000e+00, -1.44017112e+00,  2.07409286e+00,\n",
              "        -2.98704864e+00,  4.30186119e+00, -6.19541625e+00,\n",
              "         8.92245957e+00, -1.28498686e+01],\n",
              "       [ 1.00000000e+00, -3.49200421e-01,  1.21940934e-01,\n",
              "        -4.25818256e-02,  1.48695914e-02, -5.19246759e-03,\n",
              "         1.81321187e-03, -6.33174348e-04],\n",
              "       [ 1.00000000e+00, -1.67676999e-02,  2.81155758e-04,\n",
              "        -4.71433537e-06,  7.90485605e-08, -1.32546254e-09,\n",
              "         2.22249580e-11, -3.72661425e-13],\n",
              "       [ 1.00000000e+00,  8.58286187e-03,  7.36655178e-05,\n",
              "         6.32260964e-07,  5.42660852e-09,  4.65758313e-11,\n",
              "         3.99753927e-13,  3.43103273e-15],\n",
              "       [ 1.00000000e+00,  2.17097051e-01,  4.71311297e-02,\n",
              "         1.02320293e-02,  2.22134339e-03,  4.82247100e-04,\n",
              "         1.04694424e-04,  2.27288507e-05],\n",
              "       [ 1.00000000e+00,  2.70273757e-01,  7.30479037e-02,\n",
              "         1.97429314e-02,  5.33599623e-03,  1.44217975e-03,\n",
              "         3.89783339e-04,  1.05348207e-04],\n",
              "       [ 1.00000000e+00,  4.57260260e-01,  2.09086946e-01,\n",
              "         9.56071512e-02,  4.37173508e-02,  1.99902072e-02,\n",
              "         9.14072735e-03,  4.17969137e-03],\n",
              "       [ 1.00000000e+00,  5.31023171e-01,  2.81985609e-01,\n",
              "         1.49740892e-01,  7.95158834e-02,  4.22247766e-02,\n",
              "         2.24223348e-02,  1.19067793e-02],\n",
              "       [ 1.00000000e+00,  8.66052380e-01,  7.50046725e-01,\n",
              "         6.49579751e-01,  5.62570089e-01,  4.87215165e-01,\n",
              "         4.21953853e-01,  3.65434139e-01],\n",
              "       [ 1.00000000e+00,  8.90275226e-01,  7.92589977e-01,\n",
              "         7.05623221e-01,  6.28198872e-01,  5.59269893e-01,\n",
              "         4.97904130e-01,  4.43271712e-01],\n",
              "       [ 1.00000000e+00,  1.24267195e+00,  1.54423357e+00,\n",
              "         1.91897574e+00,  2.38465732e+00,  2.96334675e+00,\n",
              "         3.68246788e+00,  4.57609954e+00],\n",
              "       [ 1.00000000e+00,  1.43055795e+00,  2.04649604e+00,\n",
              "         2.92763118e+00,  4.18814606e+00,  5.99138564e+00,\n",
              "         8.57102435e+00,  1.22613470e+01],\n",
              "       [ 1.00000000e+00,  2.05654816e+00,  4.22939032e+00,\n",
              "         8.69794486e+00,  1.78877425e+01,  3.67870038e+01,\n",
              "         7.56542448e+01,  1.55586598e+02],\n",
              "       [ 1.00000000e+00,  2.40607475e+00,  5.78919569e+00,\n",
              "         1.39292376e+01,  3.35147868e+01,  8.06390821e+01,\n",
              "         1.94023659e+02,  4.66835426e+02],\n",
              "       [ 1.00000000e+00,  2.66317301e+00,  7.09249047e+00,\n",
              "         1.88885292e+01,  5.03034211e+01,  1.33966713e+02,\n",
              "         3.56776535e+02,  9.50157638e+02],\n",
              "       [ 1.00000000e+00,  2.96907400e+00,  8.81540044e+00,\n",
              "         2.61735763e+01,  7.77112849e+01,  2.30730556e+02,\n",
              "         6.85056095e+02,  2.03398224e+03]])"
            ]
          },
          "metadata": {
            "tags": []
          },
          "execution_count": 575
        }
      ]
    },
    {
      "cell_type": "code",
      "metadata": {
        "id": "_9_6iGtVbcto",
        "colab_type": "code",
        "colab": {}
      },
      "source": [
        "# analytical solution\n",
        "w = np.dot(np.linalg.inv(np.dot(X.T, X)), np.dot(X.T, y))\n",
        "\n",
        "# prediction\n",
        "yPred8Feature = yPred = np.dot(X, w)"
      ],
      "execution_count": null,
      "outputs": []
    },
    {
      "cell_type": "code",
      "metadata": {
        "id": "hz8q4G9Vbctp",
        "colab_type": "code",
        "colab": {
          "base_uri": "https://localhost:8080/",
          "height": 158
        },
        "outputId": "223c58a9-c1b8-48da-ef46-40a22a083ca2"
      },
      "source": [
        "w"
      ],
      "execution_count": null,
      "outputs": [
        {
          "output_type": "execute_result",
          "data": {
            "text/plain": [
              "array([[-2.64611130e-01],\n",
              "       [ 8.28612458e+00],\n",
              "       [-2.07703327e+00],\n",
              "       [-6.35661778e+00],\n",
              "       [-1.30720676e-02],\n",
              "       [ 1.64293567e+00],\n",
              "       [-2.08380043e-03],\n",
              "       [-1.09229711e-01]])"
            ]
          },
          "metadata": {
            "tags": []
          },
          "execution_count": 577
        }
      ]
    },
    {
      "cell_type": "code",
      "metadata": {
        "id": "9wVphfLKbctq",
        "colab_type": "code",
        "colab": {
          "base_uri": "https://localhost:8080/",
          "height": 540
        },
        "outputId": "702dcbe2-e4a0-4cf3-b964-c706fbdd074e"
      },
      "source": [
        "plt.plot(xD, y, 'o', label='Data')\n",
        "plt.plot(xD, yPerf, 'o-', label='Underlying Distribution')\n",
        "plt.plot(xD, yPred, 'o-', label='Predicted')\n",
        "\n",
        "plt.legend()\n",
        "plt.show()"
      ],
      "execution_count": null,
      "outputs": [
        {
          "output_type": "display_data",
          "data": {
            "image/png": "[encoded data removed]",
            "text/plain": [
              "<Figure size 864x648 with 1 Axes>"
            ]
          },
          "metadata": {
            "tags": []
          }
        }
      ]
    },
    {
      "cell_type": "code",
      "metadata": {
        "id": "sB5FgxqCbcts",
        "colab_type": "code",
        "colab": {
          "base_uri": "https://localhost:8080/",
          "height": 34
        },
        "outputId": "57864e83-48c7-41b9-a9a4-fe8124a47228"
      },
      "source": [
        "print('RMSE: ', rmse(yPred, y))"
      ],
      "execution_count": null,
      "outputs": [
        {
          "output_type": "stream",
          "text": [
            "RMSE:  3.3097843019929725\n"
          ],
          "name": "stdout"
        }
      ]
    },
    {
      "cell_type": "markdown",
      "metadata": {
        "id": "bjUKcac3bctt",
        "colab_type": "text"
      },
      "source": [
        "Even though RMSE here (with much more higher features) is lower than previous case, we can see this Predicted Line is quite far from the Underlying distribution. This is called **Overfitting**."
      ]
    },
    {
      "cell_type": "markdown",
      "metadata": {
        "id": "mbgmXOxdbctu",
        "colab_type": "text"
      },
      "source": [
        "When does the model overfits: when we have more features or comparitively less data for the model.\n",
        "\n",
        "What exactly is overfitting:\n",
        "It pays more attention to the noise of the data provided, in a sense trying to rotely memorize everything, \n",
        "without generalizing. \n",
        "\n",
        "Since we don't know when to stop adding features, what can be done:\n",
        "- Solution is to work with a model or feature set that can slightly overfit your data, and then use techniques to prevent overfitting from happening.\n",
        "The alternative gives us underfitting which we cannot fix unless you modify the feature set or model.\n",
        "\n",
        "Options we have to prevent overfitting. Well there are many, most widely used ones are\n",
        "- Using a validation set\n",
        "- Regularization: add penalty on weights"
      ]
    },
    {
      "cell_type": "code",
      "metadata": {
        "id": "XZxmLfzjbctu",
        "colab_type": "code",
        "colab": {
          "base_uri": "https://localhost:8080/",
          "height": 1000
        },
        "outputId": "978749ee-a961-42f4-b357-d8ee031befc8"
      },
      "source": [
        "λ = 10 # what is lambda: regularization parameter\n",
        "f = 8 # number of features\n",
        "print(type(X))\n",
        "X"
      ],
      "execution_count": null,
      "outputs": [
        {
          "output_type": "stream",
          "text": [
            "<class 'numpy.ndarray'>\n"
          ],
          "name": "stdout"
        },
        {
          "output_type": "execute_result",
          "data": {
            "text/plain": [
              "array([[ 1.00000000e+00, -3.09080058e+00,  9.55304825e+00,\n",
              "        -2.95265671e+01,  9.12607309e+01, -2.82068720e+02,\n",
              "         8.71818166e+02, -2.69461610e+03],\n",
              "       [ 1.00000000e+00, -2.27320442e+00,  5.16745835e+00,\n",
              "        -1.17466892e+01,  2.67026258e+01, -6.07005271e+01,\n",
              "         1.37984707e+02, -3.13667446e+02],\n",
              "       [ 1.00000000e+00, -2.15960977e+00,  4.66391437e+00,\n",
              "        -1.00722350e+01,  2.17520972e+01, -4.69760417e+01,\n",
              "         1.01449919e+02, -2.19092236e+02],\n",
              "       [ 1.00000000e+00, -1.93013134e+00,  3.72540699e+00,\n",
              "        -7.19052480e+00,  1.38786573e+01, -2.67876314e+01,\n",
              "         5.17036468e+01, -9.97948292e+01],\n",
              "       [ 1.00000000e+00, -1.44017112e+00,  2.07409286e+00,\n",
              "        -2.98704864e+00,  4.30186119e+00, -6.19541625e+00,\n",
              "         8.92245957e+00, -1.28498686e+01],\n",
              "       [ 1.00000000e+00, -3.49200421e-01,  1.21940934e-01,\n",
              "        -4.25818256e-02,  1.48695914e-02, -5.19246759e-03,\n",
              "         1.81321187e-03, -6.33174348e-04],\n",
              "       [ 1.00000000e+00, -1.67676999e-02,  2.81155758e-04,\n",
              "        -4.71433537e-06,  7.90485605e-08, -1.32546254e-09,\n",
              "         2.22249580e-11, -3.72661425e-13],\n",
              "       [ 1.00000000e+00,  8.58286187e-03,  7.36655178e-05,\n",
              "         6.32260964e-07,  5.42660852e-09,  4.65758313e-11,\n",
              "         3.99753927e-13,  3.43103273e-15],\n",
              "       [ 1.00000000e+00,  2.17097051e-01,  4.71311297e-02,\n",
              "         1.02320293e-02,  2.22134339e-03,  4.82247100e-04,\n",
              "         1.04694424e-04,  2.27288507e-05],\n",
              "       [ 1.00000000e+00,  2.70273757e-01,  7.30479037e-02,\n",
              "         1.97429314e-02,  5.33599623e-03,  1.44217975e-03,\n",
              "         3.89783339e-04,  1.05348207e-04],\n",
              "       [ 1.00000000e+00,  4.57260260e-01,  2.09086946e-01,\n",
              "         9.56071512e-02,  4.37173508e-02,  1.99902072e-02,\n",
              "         9.14072735e-03,  4.17969137e-03],\n",
              "       [ 1.00000000e+00,  5.31023171e-01,  2.81985609e-01,\n",
              "         1.49740892e-01,  7.95158834e-02,  4.22247766e-02,\n",
              "         2.24223348e-02,  1.19067793e-02],\n",
              "       [ 1.00000000e+00,  8.66052380e-01,  7.50046725e-01,\n",
              "         6.49579751e-01,  5.62570089e-01,  4.87215165e-01,\n",
              "         4.21953853e-01,  3.65434139e-01],\n",
              "       [ 1.00000000e+00,  8.90275226e-01,  7.92589977e-01,\n",
              "         7.05623221e-01,  6.28198872e-01,  5.59269893e-01,\n",
              "         4.97904130e-01,  4.43271712e-01],\n",
              "       [ 1.00000000e+00,  1.24267195e+00,  1.54423357e+00,\n",
              "         1.91897574e+00,  2.38465732e+00,  2.96334675e+00,\n",
              "         3.68246788e+00,  4.57609954e+00],\n",
              "       [ 1.00000000e+00,  1.43055795e+00,  2.04649604e+00,\n",
              "         2.92763118e+00,  4.18814606e+00,  5.99138564e+00,\n",
              "         8.57102435e+00,  1.22613470e+01],\n",
              "       [ 1.00000000e+00,  2.05654816e+00,  4.22939032e+00,\n",
              "         8.69794486e+00,  1.78877425e+01,  3.67870038e+01,\n",
              "         7.56542448e+01,  1.55586598e+02],\n",
              "       [ 1.00000000e+00,  2.40607475e+00,  5.78919569e+00,\n",
              "         1.39292376e+01,  3.35147868e+01,  8.06390821e+01,\n",
              "         1.94023659e+02,  4.66835426e+02],\n",
              "       [ 1.00000000e+00,  2.66317301e+00,  7.09249047e+00,\n",
              "         1.88885292e+01,  5.03034211e+01,  1.33966713e+02,\n",
              "         3.56776535e+02,  9.50157638e+02],\n",
              "       [ 1.00000000e+00,  2.96907400e+00,  8.81540044e+00,\n",
              "         2.61735763e+01,  7.77112849e+01,  2.30730556e+02,\n",
              "         6.85056095e+02,  2.03398224e+03]])"
            ]
          },
          "metadata": {
            "tags": []
          },
          "execution_count": 580
        }
      ]
    },
    {
      "cell_type": "code",
      "metadata": {
        "id": "EWvLnUOTbctw",
        "colab_type": "code",
        "colab": {
          "base_uri": "https://localhost:8080/",
          "height": 158
        },
        "outputId": "5ffdfbb3-a6d8-4169-fcce-a3d34141c5da"
      },
      "source": [
        "# analytical solution\n",
        "w = np.dot(np.linalg.inv(np.dot(X.T, X) + (λ)*np.identity(f)), np.dot(X.T, y))\n",
        "\n",
        "# prediction\n",
        "yPred8FeatRegu = yPred = np.dot(X, w)\n",
        "w"
      ],
      "execution_count": null,
      "outputs": [
        {
          "output_type": "execute_result",
          "data": {
            "text/plain": [
              "array([[ 0.21326186],\n",
              "       [ 0.40727946],\n",
              "       [-0.46745243],\n",
              "       [-0.31891582],\n",
              "       [-0.51080301],\n",
              "       [ 0.38864889],\n",
              "       [ 0.03613141],\n",
              "       [-0.03367748]])"
            ]
          },
          "metadata": {
            "tags": []
          },
          "execution_count": 581
        }
      ]
    },
    {
      "cell_type": "code",
      "metadata": {
        "id": "CQiyDIi_bctx",
        "colab_type": "code",
        "colab": {
          "base_uri": "https://localhost:8080/",
          "height": 610
        },
        "outputId": "4aa049d2-58e2-4107-891b-eae1fbb0f189"
      },
      "source": [
        "plt.plot(xD, y, 'o', label='Data')\n",
        "plt.plot(xD, yPerf, 'o-', label='Underlying Distribution')\n",
        "plt.plot(xD, yPred, 'o-', label='Predicted')\n",
        "\n",
        "plt.legend()\n",
        "plt.show()\n",
        "\n",
        "xD"
      ],
      "execution_count": null,
      "outputs": [
        {
          "output_type": "display_data",
          "data": {
            "image/png": "[encoded data removed]",
            "text/plain": [
              "<Figure size 864x648 with 1 Axes>"
            ]
          },
          "metadata": {
            "tags": []
          }
        },
        {
          "output_type": "execute_result",
          "data": {
            "text/plain": [
              "array([-3.09080058, -2.27320442, -2.15960977, -1.93013134, -1.44017112,\n",
              "       -0.34920042, -0.0167677 ,  0.00858286,  0.21709705,  0.27027376,\n",
              "        0.45726026,  0.53102317,  0.86605238,  0.89027523,  1.24267195,\n",
              "        1.43055795,  2.05654816,  2.40607475,  2.66317301,  2.969074  ])"
            ]
          },
          "metadata": {
            "tags": []
          },
          "execution_count": 582
        }
      ]
    },
    {
      "cell_type": "markdown",
      "metadata": {
        "id": "gw4mgsnbbct0",
        "colab_type": "text"
      },
      "source": [
        "Can we know from the plot if the value of λ is optimal:\n",
        "\n",
        "Somewhat but not exactly. \n",
        "\n",
        "To get the exact value of lambda you need to split dataset between training and testing. Then cycle over multiple values of lambda. The most optimum is the one which gives the lowest test error. \n",
        "\n",
        "What does low test error represent?"
      ]
    },
    {
      "cell_type": "markdown",
      "metadata": {
        "id": "mcSDizyQbct0",
        "colab_type": "text"
      },
      "source": [
        "All models together:"
      ]
    },
    {
      "cell_type": "code",
      "metadata": {
        "id": "jCYdZCQRbct1",
        "colab_type": "code",
        "colab": {
          "base_uri": "https://localhost:8080/",
          "height": 485
        },
        "outputId": "a696d9ce-099b-4533-9850-da5b5eaa9a54"
      },
      "source": [
        "plt.figure(figsize=(12, 8))\n",
        "plt.plot(xD, y, 'o', label='Data')\n",
        "plt.plot(xD, yPerf, 'o-', label='Underlying Distribution')\n",
        "plt.plot(xD, yPredLinear, 'o-', label='2 Feature')\n",
        "plt.plot(xD, yPred4Feature, 'o-', label='4 Feature')\n",
        "plt.plot(xD, yPred8Feature, 'o-', label='8 Feature')\n",
        "plt.plot(xD, yPred8FeatRegu, 'o-', label='8 Feature Regularized')\n",
        "\n",
        "plt.legend()\n",
        "plt.show()"
      ],
      "execution_count": null,
      "outputs": [
        {
          "output_type": "display_data",
          "data": {
            "image/png": "[encoded data removed]",
            "text/plain": [
              "<Figure size 864x576 with 1 Axes>"
            ]
          },
          "metadata": {
            "tags": []
          }
        }
      ]
    },
    {
      "cell_type": "markdown",
      "metadata": {
        "id": "oVKTzp4Hbct2",
        "colab_type": "text"
      },
      "source": [
        "### Further Complex Multivariate Data"
      ]
    },
    {
      "cell_type": "markdown",
      "metadata": {
        "id": "Y62qieYVbct2",
        "colab_type": "text"
      },
      "source": [
        "We will take the Housing dataset which contains information about different houses in Boston. This data was originally a part of UCI Machine Learning Repository and has been removed now. We can also access this data from the scikit-learn library. There are 506 samples and 13 feature variables in this dataset. The objective is to predict the value of prices of the house using the given features."
      ]
    },
    {
      "cell_type": "code",
      "metadata": {
        "id": "wVI7N2nWbct3",
        "colab_type": "code",
        "colab": {}
      },
      "source": [
        "from sklearn.datasets import load_boston\n",
        "dataset = load_boston()"
      ],
      "execution_count": null,
      "outputs": []
    },
    {
      "cell_type": "code",
      "metadata": {
        "id": "w_DihUt2bct4",
        "colab_type": "code",
        "colab": {
          "base_uri": "https://localhost:8080/",
          "height": 34
        },
        "outputId": "1ede6ebf-bb5c-4e71-8c58-6a29e51ff75d"
      },
      "source": [
        "print(dataset.keys())"
      ],
      "execution_count": null,
      "outputs": [
        {
          "output_type": "stream",
          "text": [
            "dict_keys(['data', 'target', 'feature_names', 'DESCR', 'filename'])\n"
          ],
          "name": "stdout"
        }
      ]
    },
    {
      "cell_type": "code",
      "metadata": {
        "id": "oIstAmPEbct5",
        "colab_type": "code",
        "colab": {
          "base_uri": "https://localhost:8080/",
          "height": 934
        },
        "outputId": "e522c334-d6aa-497a-e2d2-1216f3a959c7"
      },
      "source": [
        "print(dataset.DESCR)"
      ],
      "execution_count": null,
      "outputs": [
        {
          "output_type": "stream",
          "text": [
            ".. _boston_dataset:\n",
            "\n",
            "Boston house prices dataset\n",
            "---------------------------\n",
            "\n",
            "**Data Set Characteristics:**  \n",
            "\n",
            "    :Number of Instances: 506 \n",
            "\n",
            "    :Number of Attributes: 13 numeric/categorical predictive. Median Value (attribute 14) is usually the target.\n",
            "\n",
            "    :Attribute Information (in order):\n",
            "        - CRIM     per capita crime rate by town\n",
            "        - ZN       proportion of residential land zoned for lots over 25,000 sq.ft.\n",
            "        - INDUS    proportion of non-retail business acres per town\n",
            "        - CHAS     Charles River dummy variable (= 1 if tract bounds river; 0 otherwise)\n",
            "        - NOX      nitric oxides concentration (parts per 10 million)\n",
            "        - RM       average number of rooms per dwelling\n",
            "        - AGE      proportion of owner-occupied units built prior to 1940\n",
            "        - DIS      weighted distances to five Boston employment centres\n",
            "        - RAD      index of accessibility to radial highways\n",
            "        - TAX      full-value property-tax rate per $10,000\n",
            "        - PTRATIO  pupil-teacher ratio by town\n",
            "        - B        1000(Bk - 0.63)^2 where Bk is the proportion of blacks by town\n",
            "        - LSTAT    % lower status of the population\n",
            "        - MEDV     Median value of owner-occupied homes in $1000's\n",
            "\n",
            "    :Missing Attribute Values: None\n",
            "\n",
            "    :Creator: Harrison, D. and Rubinfeld, D.L.\n",
            "\n",
            "This is a copy of UCI ML housing dataset.\n",
            "https://archive.ics.uci.edu/ml/machine-learning-databases/housing/\n",
            "\n",
            "\n",
            "This dataset was taken from the StatLib library which is maintained at Carnegie Mellon University.\n",
            "\n",
            "The Boston house-price data of Harrison, D. and Rubinfeld, D.L. 'Hedonic\n",
            "prices and the demand for clean air', J. Environ. Economics & Management,\n",
            "vol.5, 81-102, 1978.   Used in Belsley, Kuh & Welsch, 'Regression diagnostics\n",
            "...', Wiley, 1980.   N.B. Various transformations are used in the table on\n",
            "pages 244-261 of the latter.\n",
            "\n",
            "The Boston house-price data has been used in many machine learning papers that address regression\n",
            "problems.   \n",
            "     \n",
            ".. topic:: References\n",
            "\n",
            "   - Belsley, Kuh & Welsch, 'Regression diagnostics: Identifying Influential Data and Sources of Collinearity', Wiley, 1980. 244-261.\n",
            "   - Quinlan,R. (1993). Combining Instance-Based and Model-Based Learning. In Proceedings on the Tenth International Conference of Machine Learning, 236-243, University of Massachusetts, Amherst. Morgan Kaufmann.\n",
            "\n"
          ],
          "name": "stdout"
        }
      ]
    },
    {
      "cell_type": "code",
      "metadata": {
        "id": "LkF-i2Gubct6",
        "colab_type": "code",
        "colab": {
          "base_uri": "https://localhost:8080/",
          "height": 195
        },
        "outputId": "5f384686-64fe-43d3-de5e-9e13af1f1c60"
      },
      "source": [
        "df = pd.DataFrame(dataset.data, columns=dataset.feature_names)\n",
        "df.head()"
      ],
      "execution_count": null,
      "outputs": [
        {
          "output_type": "execute_result",
          "data": {
            "text/html": [
              "<div>\n",
              "<style scoped>\n",
              "    .dataframe tbody tr th:only-of-type {\n",
              "        vertical-align: middle;\n",
              "    }\n",
              "\n",
              "    .dataframe tbody tr th {\n",
              "        vertical-align: top;\n",
              "    }\n",
              "\n",
              "    .dataframe thead th {\n",
              "        text-align: right;\n",
              "    }\n",
              "</style>\n",
              "<table border=\"1\" class=\"dataframe\">\n",
              "  <thead>\n",
              "    <tr style=\"text-align: right;\">\n",
              "      <th></th>\n",
              "      <th>CRIM</th>\n",
              "      <th>ZN</th>\n",
              "      <th>INDUS</th>\n",
              "      <th>CHAS</th>\n",
              "      <th>NOX</th>\n",
              "      <th>RM</th>\n",
              "      <th>AGE</th>\n",
              "      <th>DIS</th>\n",
              "      <th>RAD</th>\n",
              "      <th>TAX</th>\n",
              "      <th>PTRATIO</th>\n",
              "      <th>B</th>\n",
              "      <th>LSTAT</th>\n",
              "    </tr>\n",
              "  </thead>\n",
              "  <tbody>\n",
              "    <tr>\n",
              "      <th>0</th>\n",
              "      <td>0.00632</td>\n",
              "      <td>18.0</td>\n",
              "      <td>2.31</td>\n",
              "      <td>0.0</td>\n",
              "      <td>0.538</td>\n",
              "      <td>6.575</td>\n",
              "      <td>65.2</td>\n",
              "      <td>4.0900</td>\n",
              "      <td>1.0</td>\n",
              "      <td>296.0</td>\n",
              "      <td>15.3</td>\n",
              "      <td>396.90</td>\n",
              "      <td>4.98</td>\n",
              "    </tr>\n",
              "    <tr>\n",
              "      <th>1</th>\n",
              "      <td>0.02731</td>\n",
              "      <td>0.0</td>\n",
              "      <td>7.07</td>\n",
              "      <td>0.0</td>\n",
              "      <td>0.469</td>\n",
              "      <td>6.421</td>\n",
              "      <td>78.9</td>\n",
              "      <td>4.9671</td>\n",
              "      <td>2.0</td>\n",
              "      <td>242.0</td>\n",
              "      <td>17.8</td>\n",
              "      <td>396.90</td>\n",
              "      <td>9.14</td>\n",
              "    </tr>\n",
              "    <tr>\n",
              "      <th>2</th>\n",
              "      <td>0.02729</td>\n",
              "      <td>0.0</td>\n",
              "      <td>7.07</td>\n",
              "      <td>0.0</td>\n",
              "      <td>0.469</td>\n",
              "      <td>7.185</td>\n",
              "      <td>61.1</td>\n",
              "      <td>4.9671</td>\n",
              "      <td>2.0</td>\n",
              "      <td>242.0</td>\n",
              "      <td>17.8</td>\n",
              "      <td>392.83</td>\n",
              "      <td>4.03</td>\n",
              "    </tr>\n",
              "    <tr>\n",
              "      <th>3</th>\n",
              "      <td>0.03237</td>\n",
              "      <td>0.0</td>\n",
              "      <td>2.18</td>\n",
              "      <td>0.0</td>\n",
              "      <td>0.458</td>\n",
              "      <td>6.998</td>\n",
              "      <td>45.8</td>\n",
              "      <td>6.0622</td>\n",
              "      <td>3.0</td>\n",
              "      <td>222.0</td>\n",
              "      <td>18.7</td>\n",
              "      <td>394.63</td>\n",
              "      <td>2.94</td>\n",
              "    </tr>\n",
              "    <tr>\n",
              "      <th>4</th>\n",
              "      <td>0.06905</td>\n",
              "      <td>0.0</td>\n",
              "      <td>2.18</td>\n",
              "      <td>0.0</td>\n",
              "      <td>0.458</td>\n",
              "      <td>7.147</td>\n",
              "      <td>54.2</td>\n",
              "      <td>6.0622</td>\n",
              "      <td>3.0</td>\n",
              "      <td>222.0</td>\n",
              "      <td>18.7</td>\n",
              "      <td>396.90</td>\n",
              "      <td>5.33</td>\n",
              "    </tr>\n",
              "  </tbody>\n",
              "</table>\n",
              "</div>"
            ],
            "text/plain": [
              "      CRIM    ZN  INDUS  CHAS    NOX  ...  RAD    TAX  PTRATIO       B  LSTAT\n",
              "0  0.00632  18.0   2.31   0.0  0.538  ...  1.0  296.0     15.3  396.90   4.98\n",
              "1  0.02731   0.0   7.07   0.0  0.469  ...  2.0  242.0     17.8  396.90   9.14\n",
              "2  0.02729   0.0   7.07   0.0  0.469  ...  2.0  242.0     17.8  392.83   4.03\n",
              "3  0.03237   0.0   2.18   0.0  0.458  ...  3.0  222.0     18.7  394.63   2.94\n",
              "4  0.06905   0.0   2.18   0.0  0.458  ...  3.0  222.0     18.7  396.90   5.33\n",
              "\n",
              "[5 rows x 13 columns]"
            ]
          },
          "metadata": {
            "tags": []
          },
          "execution_count": 587
        }
      ]
    },
    {
      "cell_type": "markdown",
      "metadata": {
        "id": "94KuAUYObct8",
        "colab_type": "text"
      },
      "source": [
        "We can see that the target value by the name MEDV is missing from the dataframe. It is present in dataset.target.\n",
        "Let's add that to the df."
      ]
    },
    {
      "cell_type": "code",
      "metadata": {
        "id": "Xzyw71rKbct8",
        "colab_type": "code",
        "colab": {}
      },
      "source": [
        "df['MEDV'] = dataset.target"
      ],
      "execution_count": null,
      "outputs": []
    },
    {
      "cell_type": "markdown",
      "metadata": {
        "id": "JaZo0Cjgbct-",
        "colab_type": "text"
      },
      "source": [
        "Are there any null values in the dataset?"
      ]
    },
    {
      "cell_type": "code",
      "metadata": {
        "id": "pogI_Oxwbct_",
        "colab_type": "code",
        "colab": {
          "base_uri": "https://localhost:8080/",
          "height": 281
        },
        "outputId": "c668cfcd-0eec-4115-9739-aa4a24ceaeea"
      },
      "source": [
        "df.isnull().sum()"
      ],
      "execution_count": null,
      "outputs": [
        {
          "output_type": "execute_result",
          "data": {
            "text/plain": [
              "CRIM       0\n",
              "ZN         0\n",
              "INDUS      0\n",
              "CHAS       0\n",
              "NOX        0\n",
              "RM         0\n",
              "AGE        0\n",
              "DIS        0\n",
              "RAD        0\n",
              "TAX        0\n",
              "PTRATIO    0\n",
              "B          0\n",
              "LSTAT      0\n",
              "MEDV       0\n",
              "dtype: int64"
            ]
          },
          "metadata": {
            "tags": []
          },
          "execution_count": 589
        }
      ]
    },
    {
      "cell_type": "markdown",
      "metadata": {
        "id": "MtEhLGisbcuA",
        "colab_type": "text"
      },
      "source": [
        "Even though there are none, it's a good practice to check."
      ]
    },
    {
      "cell_type": "markdown",
      "metadata": {
        "id": "KJeJAOaXbcuA",
        "colab_type": "text"
      },
      "source": [
        "#### Exploratory Data Analysis"
      ]
    },
    {
      "cell_type": "markdown",
      "metadata": {
        "id": "P_9C21cDbcuA",
        "colab_type": "text"
      },
      "source": [
        "We here use distplot method from the seaborn library, which is another popular graphing library for Python."
      ]
    },
    {
      "cell_type": "code",
      "metadata": {
        "id": "HZReYjg8bcuB",
        "colab_type": "code",
        "colab": {
          "base_uri": "https://localhost:8080/",
          "height": 557
        },
        "outputId": "30d2fd7e-a19a-41da-d70b-929316905707"
      },
      "source": [
        "sns.set(rc={'figure.figsize':(12, 9)})\n",
        "sns.distplot(df['MEDV'], bins=30)\n",
        "plt.show()"
      ],
      "execution_count": null,
      "outputs": [
        {
          "output_type": "display_data",
          "data": {
            "image/png": "[encoded data removed]",
            "text/plain": [
              "<Figure size 864x648 with 1 Axes>"
            ]
          },
          "metadata": {
            "tags": []
          }
        }
      ]
    },
    {
      "cell_type": "markdown",
      "metadata": {
        "id": "wyrv1OqrbcuC",
        "colab_type": "text"
      },
      "source": [
        "We can see that it mostly normally distributed with a few outliers."
      ]
    },
    {
      "cell_type": "markdown",
      "metadata": {
        "id": "pGxbbm4hbcuC",
        "colab_type": "text"
      },
      "source": [
        "## Linear Regression - Assignment"
      ]
    },
    {
      "cell_type": "markdown",
      "metadata": {
        "id": "gEqwpLlpbcuD",
        "colab_type": "text"
      },
      "source": [
        "We'll work with the above dataset for the assignment below. Create a blank notebook for the assignment."
      ]
    },
    {
      "cell_type": "markdown",
      "metadata": {
        "id": "mB8b9CeFbcuD",
        "colab_type": "text"
      },
      "source": [
        "### Question 1"
      ]
    },
    {
      "cell_type": "markdown",
      "metadata": {
        "id": "WsIr8mlrbcuE",
        "colab_type": "text"
      },
      "source": [
        "1. Normalize the data using StandardScaler from sklearn. [0.5]\n",
        "2. Split the multivariate data into training/validation data (20% validation data) and plot train error and validation error as a function of the lambda regularizer. [1]\n",
        "3. What is the best lambda where the best fit occurs? Use this best lambda from here on out. [Note: You may be surprised by the best lambda here - this won't be the case for all datasets.] [1]"
      ]
    },
    {
      "cell_type": "markdown",
      "metadata": {
        "id": "EQ6KBnbpbcuE",
        "colab_type": "text"
      },
      "source": [
        "### Question 2"
      ]
    },
    {
      "cell_type": "markdown",
      "metadata": {
        "id": "CeznulorbcuF",
        "colab_type": "text"
      },
      "source": [
        "1. Derive the gradient of the $L_2$ regularized objective for Linear Regression, $\\frac{\\partial}{\\partial \\theta_j}J(\\theta)$. Show your work (either by using in-line equations like we do here, or taking a picture of your work, and emdedding it in the notebook). [1]"
      ]
    },
    {
      "cell_type": "markdown",
      "metadata": {
        "id": "dqtcegWNbcuF",
        "colab_type": "text"
      },
      "source": [
        "### Question 3"
      ]
    },
    {
      "cell_type": "markdown",
      "metadata": {
        "id": "LcxGaS1mbcuF",
        "colab_type": "text"
      },
      "source": [
        "1. Implement batch gradient descent for linear regression using a fixed learning rate $\\eta$ of 1e-2. [1.5]\n",
        "\n",
        "2. Run the gradient descent for a fixed number of epochs (based on convergence) and verify that the results closely approximate the matrix solution with the same lambda. [1]"
      ]
    },
    {
      "cell_type": "markdown",
      "metadata": {
        "id": "uZWf70gxbcuG",
        "colab_type": "text"
      },
      "source": [
        "### Question 4"
      ]
    },
    {
      "cell_type": "markdown",
      "metadata": {
        "id": "VE0M8T1zbcuG",
        "colab_type": "text"
      },
      "source": [
        "1. Plot training error performance vs. number of epochs as a function of learning rate $\\eta$ for a range of values {1e-6, 1e-5, 1e-4, 1e-3, 1e-2, 1e-1} with each $\\eta$ being a different line. [1]\n",
        "\n",
        "For very low $\\eta$, gradient descent should be slow to converge.  For very high $\\eta$, the error might be very unstable (i.e., not decreasing on every epoch)."
      ]
    },
    {
      "cell_type": "markdown",
      "metadata": {
        "id": "CXQYiq-wbcuG",
        "colab_type": "text"
      },
      "source": [
        "### Question 5"
      ]
    },
    {
      "cell_type": "markdown",
      "metadata": {
        "id": "lbqZlUh6bcuH",
        "colab_type": "text"
      },
      "source": [
        "Implement a mini-batch version with a batch_size constant B.  When B=1, it is stochastic gradient descent.  When B=#train data points, it is full-batch.  Anywhere in between is mini-batch.  \n",
        "\n",
        "1. Choose B=1, B=16, B=128, B=256, and B=#data points and plot training error as a function of \"# of gradient updates\" and also separately as a function of \"wall-clock time\" for each value of B. [2]\n",
        "\n",
        "2. All lines should be on the same plot. Which B leads to fastest convergence in terms of #gradient updates and in terms of \"wall-clock time\"? [1]"
      ]
    },
    {
      "cell_type": "markdown",
      "metadata": {
        "id": "BUZYiueSbcuH",
        "colab_type": "text"
      },
      "source": [
        "### Question 6"
      ]
    },
    {
      "cell_type": "markdown",
      "metadata": {
        "id": "RWB-1inrbcuH",
        "colab_type": "text"
      },
      "source": [
        "1. Switch to absolute error for loss but still use $L_2$ regularization. Derive the gradient for this case, $\\frac{\\partial}{\\partial \\theta_j}J(\\theta)$. [1.5]\n",
        "\n",
        "\n",
        "2. Tune $\\eta$ and B to obtain good performance (fast convergence to minimum error, but not noisy).  Is it easier to train with squared error or absolute error, why?  Show some plots that help you demonstrate this point and explain. [1]"
      ]
    },
    {
      "cell_type": "markdown",
      "metadata": {
        "id": "AvpZij1PbcuH",
        "colab_type": "text"
      },
      "source": [
        "### Question 7 (Optional)"
      ]
    },
    {
      "cell_type": "markdown",
      "metadata": {
        "id": "hFhVjOGmbcuI",
        "colab_type": "text"
      },
      "source": [
        "1. Does the model perform better if polynomial features are added (Use sklearn.preprocessing.PolynomialFeatures to test it out).\n",
        "\n",
        "\n",
        "2. Does the optimal value of λ (regularization constant) change with this new set of features added."
      ]
    },
    {
      "cell_type": "markdown",
      "metadata": {
        "colab_type": "text",
        "id": "7rKZXBodwA5P"
      },
      "source": [
        "## References"
      ]
    },
    {
      "cell_type": "markdown",
      "metadata": {
        "colab_type": "text",
        "id": "PA-T9S4RwA5P"
      },
      "source": [
        "Linear Regression:\n",
        "1. https://sebastianraschka.com/faq/docs/closed-form-vs-gd.html\n",
        "\n",
        "Gradient Descent (images and equations):\n",
        "1. https://towardsdatascience.com/linear-regression-using-gradient-descent-97a6c8700931\n",
        "2. https://towardsdatascience.com/linear-regression-using-python-b136c91bf0a2"
      ]
    },
    {
      "cell_type": "code",
      "metadata": {
        "id": "Qcm0inxyP59n",
        "colab_type": "code",
        "colab": {}
      },
      "source": [
        ""
      ],
      "execution_count": null,
      "outputs": []
    }
  ]
}